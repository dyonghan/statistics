{
 "cells": [
  {
   "cell_type": "markdown",
   "metadata": {},
   "source": [
    "## AAC vs RS"
   ]
  },
  {
   "cell_type": "code",
   "execution_count": 13,
   "metadata": {},
   "outputs": [
    {
     "data": {
      "text/html": [
       "<div>\n",
       "<style scoped>\n",
       "    .dataframe tbody tr th:only-of-type {\n",
       "        vertical-align: middle;\n",
       "    }\n",
       "\n",
       "    .dataframe tbody tr th {\n",
       "        vertical-align: top;\n",
       "    }\n",
       "\n",
       "    .dataframe thead th {\n",
       "        text-align: right;\n",
       "    }\n",
       "</style>\n",
       "<table border=\"1\" class=\"dataframe\">\n",
       "  <thead>\n",
       "    <tr style=\"text-align: right;\">\n",
       "      <th></th>\n",
       "      <th>A1</th>\n",
       "      <th>A2</th>\n",
       "      <th>A3</th>\n",
       "      <th>A4</th>\n",
       "      <th>A5</th>\n",
       "      <th>A6</th>\n",
       "      <th>RS1</th>\n",
       "      <th>RS2</th>\n",
       "      <th>RS3</th>\n",
       "      <th>RS4</th>\n",
       "      <th>RS5</th>\n",
       "      <th>RS6</th>\n",
       "    </tr>\n",
       "  </thead>\n",
       "  <tbody>\n",
       "    <tr>\n",
       "      <th>0</th>\n",
       "      <td>34.161752</td>\n",
       "      <td>24.651251</td>\n",
       "      <td>26.978996</td>\n",
       "      <td>32.432570</td>\n",
       "      <td>28.708178</td>\n",
       "      <td>35.491892</td>\n",
       "      <td>2.402464</td>\n",
       "      <td>5.236140</td>\n",
       "      <td>4.373717</td>\n",
       "      <td>4.681725</td>\n",
       "      <td>3.942505</td>\n",
       "      <td>4.589322</td>\n",
       "    </tr>\n",
       "    <tr>\n",
       "      <th>1</th>\n",
       "      <td>28.575164</td>\n",
       "      <td>24.717758</td>\n",
       "      <td>39.016763</td>\n",
       "      <td>37.354088</td>\n",
       "      <td>28.575164</td>\n",
       "      <td>31.035923</td>\n",
       "      <td>4.065708</td>\n",
       "      <td>5.328542</td>\n",
       "      <td>2.895277</td>\n",
       "      <td>6.283368</td>\n",
       "      <td>4.866530</td>\n",
       "      <td>2.926078</td>\n",
       "    </tr>\n",
       "    <tr>\n",
       "      <th>2</th>\n",
       "      <td>22.855562</td>\n",
       "      <td>26.513447</td>\n",
       "      <td>24.651251</td>\n",
       "      <td>39.083270</td>\n",
       "      <td>18.931649</td>\n",
       "      <td>39.814847</td>\n",
       "      <td>2.864476</td>\n",
       "      <td>3.726899</td>\n",
       "      <td>5.543147</td>\n",
       "      <td>4.538071</td>\n",
       "      <td>4.050761</td>\n",
       "      <td>6.670051</td>\n",
       "    </tr>\n",
       "    <tr>\n",
       "      <th>3</th>\n",
       "      <td>NaN</td>\n",
       "      <td>23.653646</td>\n",
       "      <td>NaN</td>\n",
       "      <td>NaN</td>\n",
       "      <td>NaN</td>\n",
       "      <td>35.558399</td>\n",
       "      <td>3.480493</td>\n",
       "      <td>3.480493</td>\n",
       "      <td>4.598985</td>\n",
       "      <td>7.248731</td>\n",
       "      <td>6.944162</td>\n",
       "      <td>6.182741</td>\n",
       "    </tr>\n",
       "    <tr>\n",
       "      <th>4</th>\n",
       "      <td>NaN</td>\n",
       "      <td>29.772290</td>\n",
       "      <td>NaN</td>\n",
       "      <td>NaN</td>\n",
       "      <td>NaN</td>\n",
       "      <td>36.090455</td>\n",
       "      <td>NaN</td>\n",
       "      <td>NaN</td>\n",
       "      <td>4.416244</td>\n",
       "      <td>NaN</td>\n",
       "      <td>3.959391</td>\n",
       "      <td>6.395939</td>\n",
       "    </tr>\n",
       "  </tbody>\n",
       "</table>\n",
       "</div>"
      ],
      "text/plain": [
       "          A1         A2         A3         A4         A5         A6       RS1  \\\n",
       "0  34.161752  24.651251  26.978996  32.432570  28.708178  35.491892  2.402464   \n",
       "1  28.575164  24.717758  39.016763  37.354088  28.575164  31.035923  4.065708   \n",
       "2  22.855562  26.513447  24.651251  39.083270  18.931649  39.814847  2.864476   \n",
       "3        NaN  23.653646        NaN        NaN        NaN  35.558399  3.480493   \n",
       "4        NaN  29.772290        NaN        NaN        NaN  36.090455       NaN   \n",
       "\n",
       "        RS2       RS3       RS4       RS5       RS6  \n",
       "0  5.236140  4.373717  4.681725  3.942505  4.589322  \n",
       "1  5.328542  2.895277  6.283368  4.866530  2.926078  \n",
       "2  3.726899  5.543147  4.538071  4.050761  6.670051  \n",
       "3  3.480493  4.598985  7.248731  6.944162  6.182741  \n",
       "4       NaN  4.416244       NaN  3.959391  6.395939  "
      ]
     },
     "execution_count": 13,
     "metadata": {},
     "output_type": "execute_result"
    }
   ],
   "source": [
    "import pandas as pd\n",
    "df = pd.read_csv(\"sorghum/starch.csv\")\n",
    "df"
   ]
  },
  {
   "cell_type": "code",
   "execution_count": 15,
   "metadata": {},
   "outputs": [
    {
     "data": {
      "text/html": [
       "<div>\n",
       "<style scoped>\n",
       "    .dataframe tbody tr th:only-of-type {\n",
       "        vertical-align: middle;\n",
       "    }\n",
       "\n",
       "    .dataframe tbody tr th {\n",
       "        vertical-align: top;\n",
       "    }\n",
       "\n",
       "    .dataframe thead th {\n",
       "        text-align: right;\n",
       "    }\n",
       "</style>\n",
       "<table border=\"1\" class=\"dataframe\">\n",
       "  <thead>\n",
       "    <tr style=\"text-align: right;\">\n",
       "      <th></th>\n",
       "      <th>A1</th>\n",
       "      <th>A2</th>\n",
       "      <th>A3</th>\n",
       "      <th>A4</th>\n",
       "      <th>A5</th>\n",
       "      <th>A6</th>\n",
       "      <th>RS1</th>\n",
       "      <th>RS2</th>\n",
       "      <th>RS3</th>\n",
       "      <th>RS4</th>\n",
       "      <th>RS5</th>\n",
       "      <th>RS6</th>\n",
       "    </tr>\n",
       "  </thead>\n",
       "  <tbody>\n",
       "    <tr>\n",
       "      <th>0</th>\n",
       "      <td>NaN</td>\n",
       "      <td>24.651251</td>\n",
       "      <td>26.978996</td>\n",
       "      <td>32.432570</td>\n",
       "      <td>28.708178</td>\n",
       "      <td>35.491892</td>\n",
       "      <td>NaN</td>\n",
       "      <td>5.236140</td>\n",
       "      <td>4.373717</td>\n",
       "      <td>4.681725</td>\n",
       "      <td>3.942505</td>\n",
       "      <td>4.589322</td>\n",
       "    </tr>\n",
       "    <tr>\n",
       "      <th>1</th>\n",
       "      <td>28.575164</td>\n",
       "      <td>24.717758</td>\n",
       "      <td>39.016763</td>\n",
       "      <td>37.354088</td>\n",
       "      <td>28.575164</td>\n",
       "      <td>31.035923</td>\n",
       "      <td>4.065708</td>\n",
       "      <td>5.328542</td>\n",
       "      <td>2.895277</td>\n",
       "      <td>6.283368</td>\n",
       "      <td>4.866530</td>\n",
       "      <td>2.926078</td>\n",
       "    </tr>\n",
       "    <tr>\n",
       "      <th>2</th>\n",
       "      <td>22.855562</td>\n",
       "      <td>26.513447</td>\n",
       "      <td>24.651251</td>\n",
       "      <td>39.083270</td>\n",
       "      <td>18.931649</td>\n",
       "      <td>39.814847</td>\n",
       "      <td>2.864476</td>\n",
       "      <td>3.726899</td>\n",
       "      <td>5.543147</td>\n",
       "      <td>4.538071</td>\n",
       "      <td>4.050761</td>\n",
       "      <td>6.670051</td>\n",
       "    </tr>\n",
       "    <tr>\n",
       "      <th>3</th>\n",
       "      <td>NaN</td>\n",
       "      <td>23.653646</td>\n",
       "      <td>NaN</td>\n",
       "      <td>NaN</td>\n",
       "      <td>NaN</td>\n",
       "      <td>35.558399</td>\n",
       "      <td>3.480493</td>\n",
       "      <td>3.480493</td>\n",
       "      <td>4.598985</td>\n",
       "      <td>7.248731</td>\n",
       "      <td>NaN</td>\n",
       "      <td>6.182741</td>\n",
       "    </tr>\n",
       "    <tr>\n",
       "      <th>4</th>\n",
       "      <td>NaN</td>\n",
       "      <td>29.772290</td>\n",
       "      <td>NaN</td>\n",
       "      <td>NaN</td>\n",
       "      <td>NaN</td>\n",
       "      <td>36.090455</td>\n",
       "      <td>NaN</td>\n",
       "      <td>NaN</td>\n",
       "      <td>4.416244</td>\n",
       "      <td>NaN</td>\n",
       "      <td>3.959391</td>\n",
       "      <td>6.395939</td>\n",
       "    </tr>\n",
       "  </tbody>\n",
       "</table>\n",
       "</div>"
      ],
      "text/plain": [
       "          A1         A2         A3         A4         A5         A6       RS1  \\\n",
       "0        NaN  24.651251  26.978996  32.432570  28.708178  35.491892       NaN   \n",
       "1  28.575164  24.717758  39.016763  37.354088  28.575164  31.035923  4.065708   \n",
       "2  22.855562  26.513447  24.651251  39.083270  18.931649  39.814847  2.864476   \n",
       "3        NaN  23.653646        NaN        NaN        NaN  35.558399  3.480493   \n",
       "4        NaN  29.772290        NaN        NaN        NaN  36.090455       NaN   \n",
       "\n",
       "        RS2       RS3       RS4       RS5       RS6  \n",
       "0  5.236140  4.373717  4.681725  3.942505  4.589322  \n",
       "1  5.328542  2.895277  6.283368  4.866530  2.926078  \n",
       "2  3.726899  5.543147  4.538071  4.050761  6.670051  \n",
       "3  3.480493  4.598985  7.248731       NaN  6.182741  \n",
       "4       NaN  4.416244       NaN  3.959391  6.395939  "
      ]
     },
     "execution_count": 15,
     "metadata": {},
     "output_type": "execute_result"
    }
   ],
   "source": [
    "df.loc[0,'A1'] = None\n",
    "df.loc[0,'RS1'] = None\n",
    "df.loc[3,'RS5']= None\n",
    "df"
   ]
  },
  {
   "cell_type": "code",
   "execution_count": 16,
   "metadata": {},
   "outputs": [
    {
     "data": {
      "text/html": [
       "<div>\n",
       "<style scoped>\n",
       "    .dataframe tbody tr th:only-of-type {\n",
       "        vertical-align: middle;\n",
       "    }\n",
       "\n",
       "    .dataframe tbody tr th {\n",
       "        vertical-align: top;\n",
       "    }\n",
       "\n",
       "    .dataframe thead th {\n",
       "        text-align: right;\n",
       "    }\n",
       "</style>\n",
       "<table border=\"1\" class=\"dataframe\">\n",
       "  <thead>\n",
       "    <tr style=\"text-align: right;\">\n",
       "      <th></th>\n",
       "      <th>avg</th>\n",
       "      <th>std</th>\n",
       "    </tr>\n",
       "  </thead>\n",
       "  <tbody>\n",
       "    <tr>\n",
       "      <th>0</th>\n",
       "      <td>25.715363</td>\n",
       "      <td>4.044369</td>\n",
       "    </tr>\n",
       "    <tr>\n",
       "      <th>1</th>\n",
       "      <td>25.861678</td>\n",
       "      <td>2.416960</td>\n",
       "    </tr>\n",
       "    <tr>\n",
       "      <th>2</th>\n",
       "      <td>30.215670</td>\n",
       "      <td>7.710320</td>\n",
       "    </tr>\n",
       "    <tr>\n",
       "      <th>3</th>\n",
       "      <td>36.289976</td>\n",
       "      <td>3.450682</td>\n",
       "    </tr>\n",
       "    <tr>\n",
       "      <th>4</th>\n",
       "      <td>25.404997</td>\n",
       "      <td>5.606478</td>\n",
       "    </tr>\n",
       "    <tr>\n",
       "      <th>5</th>\n",
       "      <td>35.598303</td>\n",
       "      <td>3.116476</td>\n",
       "    </tr>\n",
       "    <tr>\n",
       "      <th>6</th>\n",
       "      <td>3.470226</td>\n",
       "      <td>0.600682</td>\n",
       "    </tr>\n",
       "    <tr>\n",
       "      <th>7</th>\n",
       "      <td>4.443018</td>\n",
       "      <td>0.975103</td>\n",
       "    </tr>\n",
       "    <tr>\n",
       "      <th>8</th>\n",
       "      <td>4.365474</td>\n",
       "      <td>0.949416</td>\n",
       "    </tr>\n",
       "    <tr>\n",
       "      <th>9</th>\n",
       "      <td>5.687974</td>\n",
       "      <td>1.307067</td>\n",
       "    </tr>\n",
       "    <tr>\n",
       "      <th>10</th>\n",
       "      <td>4.204797</td>\n",
       "      <td>0.443711</td>\n",
       "    </tr>\n",
       "    <tr>\n",
       "      <th>11</th>\n",
       "      <td>5.352826</td>\n",
       "      <td>1.579871</td>\n",
       "    </tr>\n",
       "  </tbody>\n",
       "</table>\n",
       "</div>"
      ],
      "text/plain": [
       "          avg       std\n",
       "0   25.715363  4.044369\n",
       "1   25.861678  2.416960\n",
       "2   30.215670  7.710320\n",
       "3   36.289976  3.450682\n",
       "4   25.404997  5.606478\n",
       "5   35.598303  3.116476\n",
       "6    3.470226  0.600682\n",
       "7    4.443018  0.975103\n",
       "8    4.365474  0.949416\n",
       "9    5.687974  1.307067\n",
       "10   4.204797  0.443711\n",
       "11   5.352826  1.579871"
      ]
     },
     "metadata": {},
     "output_type": "display_data"
    },
    {
     "data": {
      "text/html": [
       "<div>\n",
       "<style scoped>\n",
       "    .dataframe tbody tr th:only-of-type {\n",
       "        vertical-align: middle;\n",
       "    }\n",
       "\n",
       "    .dataframe tbody tr th {\n",
       "        vertical-align: top;\n",
       "    }\n",
       "\n",
       "    .dataframe thead th {\n",
       "        text-align: right;\n",
       "    }\n",
       "</style>\n",
       "<table border=\"1\" class=\"dataframe\">\n",
       "  <thead>\n",
       "    <tr style=\"text-align: right;\">\n",
       "      <th></th>\n",
       "      <th>AAC</th>\n",
       "      <th>RS</th>\n",
       "    </tr>\n",
       "  </thead>\n",
       "  <tbody>\n",
       "    <tr>\n",
       "      <th>0</th>\n",
       "      <td>25.715363</td>\n",
       "      <td>3.470226</td>\n",
       "    </tr>\n",
       "    <tr>\n",
       "      <th>1</th>\n",
       "      <td>25.861678</td>\n",
       "      <td>4.443018</td>\n",
       "    </tr>\n",
       "    <tr>\n",
       "      <th>2</th>\n",
       "      <td>30.215670</td>\n",
       "      <td>4.365474</td>\n",
       "    </tr>\n",
       "    <tr>\n",
       "      <th>3</th>\n",
       "      <td>36.289976</td>\n",
       "      <td>5.687974</td>\n",
       "    </tr>\n",
       "    <tr>\n",
       "      <th>4</th>\n",
       "      <td>25.404997</td>\n",
       "      <td>4.204797</td>\n",
       "    </tr>\n",
       "    <tr>\n",
       "      <th>5</th>\n",
       "      <td>35.598303</td>\n",
       "      <td>5.352826</td>\n",
       "    </tr>\n",
       "  </tbody>\n",
       "</table>\n",
       "</div>"
      ],
      "text/plain": [
       "         AAC        RS\n",
       "0  25.715363  3.470226\n",
       "1  25.861678  4.443018\n",
       "2  30.215670  4.365474\n",
       "3  36.289976  5.687974\n",
       "4  25.404997  4.204797\n",
       "5  35.598303  5.352826"
      ]
     },
     "metadata": {},
     "output_type": "display_data"
    }
   ],
   "source": [
    "avg = df.mean(axis=0)\n",
    "std = df.std(axis=0)\n",
    "avg_std = pd.DataFrame({'avg': avg.values, 'std': std.values})\n",
    "display(avg_std)\n",
    "ar = pd.DataFrame({'AAC': avg.loc['A1':'A6'].values, 'RS': avg.loc['RS1':'RS6'].values})\n",
    "display(ar)"
   ]
  },
  {
   "cell_type": "code",
   "execution_count": 17,
   "metadata": {},
   "outputs": [
    {
     "name": "stderr",
     "output_type": "stream",
     "text": [
      "/usr/local/Cellar/python3/3.6.3/Frameworks/Python.framework/Versions/3.6/lib/python3.6/site-packages/scipy/stats/stats.py:1713: FutureWarning: Using a non-tuple sequence for multidimensional indexing is deprecated; use `arr[tuple(seq)]` instead of `arr[seq]`. In the future this will be interpreted as an array index, `arr[np.array(seq)]`, which will result either in an error or a different result.\n",
      "  return np.add.reduce(sorted[indexer] * weights, axis=axis) / sumval\n"
     ]
    },
    {
     "data": {
      "text/plain": [
       "<matplotlib.axes._subplots.AxesSubplot at 0x11f6257b8>"
      ]
     },
     "execution_count": 17,
     "metadata": {},
     "output_type": "execute_result"
    }
   ],
   "source": [
    "import seaborn as sns\n",
    "sns.regplot(x='AAC', y='RS', data=ar)"
   ]
  },
  {
   "cell_type": "code",
   "execution_count": 18,
   "metadata": {},
   "outputs": [
    {
     "data": {
      "text/plain": [
       "(0.8977921735443055, 0.015135805730689412)"
      ]
     },
     "execution_count": 18,
     "metadata": {},
     "output_type": "execute_result"
    }
   ],
   "source": [
    "from scipy import stats\n",
    "# 相关系数，显著性区别\n",
    "stats.pearsonr(ar['AAC'], ar['RS'])"
   ]
  },
  {
   "cell_type": "code",
   "execution_count": 19,
   "metadata": {},
   "outputs": [
    {
     "data": {
      "text/plain": [
       "SpearmanrResult(correlation=0.8857142857142858, pvalue=0.01884548104956266)"
      ]
     },
     "execution_count": 19,
     "metadata": {},
     "output_type": "execute_result"
    }
   ],
   "source": [
    "stats.spearmanr(ar['AAC'], ar['RS'])"
   ]
  },
  {
   "cell_type": "code",
   "execution_count": 20,
   "metadata": {},
   "outputs": [
    {
     "data": {
      "text/plain": [
       "KendalltauResult(correlation=0.7333333333333333, pvalue=0.03877750439230665)"
      ]
     },
     "execution_count": 20,
     "metadata": {},
     "output_type": "execute_result"
    }
   ],
   "source": [
    "stats.kendalltau(ar['AAC'], ar['RS'])"
   ]
  },
  {
   "cell_type": "markdown",
   "metadata": {},
   "source": [
    "## Protein vs RS"
   ]
  },
  {
   "cell_type": "code",
   "execution_count": 22,
   "metadata": {},
   "outputs": [
    {
     "data": {
      "text/html": [
       "<div>\n",
       "<style scoped>\n",
       "    .dataframe tbody tr th:only-of-type {\n",
       "        vertical-align: middle;\n",
       "    }\n",
       "\n",
       "    .dataframe tbody tr th {\n",
       "        vertical-align: top;\n",
       "    }\n",
       "\n",
       "    .dataframe thead th {\n",
       "        text-align: right;\n",
       "    }\n",
       "</style>\n",
       "<table border=\"1\" class=\"dataframe\">\n",
       "  <thead>\n",
       "    <tr style=\"text-align: right;\">\n",
       "      <th></th>\n",
       "      <th>1</th>\n",
       "      <th>2</th>\n",
       "      <th>3</th>\n",
       "      <th>4</th>\n",
       "      <th>5</th>\n",
       "      <th>6</th>\n",
       "    </tr>\n",
       "  </thead>\n",
       "  <tbody>\n",
       "    <tr>\n",
       "      <th>0</th>\n",
       "      <td>10.3530</td>\n",
       "      <td>16.7195</td>\n",
       "      <td>10.8885</td>\n",
       "      <td>11.7810</td>\n",
       "      <td>12.6140</td>\n",
       "      <td>14.4585</td>\n",
       "    </tr>\n",
       "    <tr>\n",
       "      <th>1</th>\n",
       "      <td>11.1860</td>\n",
       "      <td>16.1840</td>\n",
       "      <td>11.6025</td>\n",
       "      <td>12.3165</td>\n",
       "      <td>12.4950</td>\n",
       "      <td>15.5295</td>\n",
       "    </tr>\n",
       "    <tr>\n",
       "      <th>2</th>\n",
       "      <td>10.8290</td>\n",
       "      <td>17.3145</td>\n",
       "      <td>10.9480</td>\n",
       "      <td>11.9000</td>\n",
       "      <td>12.8520</td>\n",
       "      <td>14.8155</td>\n",
       "    </tr>\n",
       "    <tr>\n",
       "      <th>3</th>\n",
       "      <td>10.1745</td>\n",
       "      <td>17.1360</td>\n",
       "      <td>10.9480</td>\n",
       "      <td>11.4835</td>\n",
       "      <td>12.7925</td>\n",
       "      <td>15.8270</td>\n",
       "    </tr>\n",
       "  </tbody>\n",
       "</table>\n",
       "</div>"
      ],
      "text/plain": [
       "         1        2        3        4        5        6\n",
       "0  10.3530  16.7195  10.8885  11.7810  12.6140  14.4585\n",
       "1  11.1860  16.1840  11.6025  12.3165  12.4950  15.5295\n",
       "2  10.8290  17.3145  10.9480  11.9000  12.8520  14.8155\n",
       "3  10.1745  17.1360  10.9480  11.4835  12.7925  15.8270"
      ]
     },
     "execution_count": 22,
     "metadata": {},
     "output_type": "execute_result"
    }
   ],
   "source": [
    "import pandas as pd\n",
    "df = pd.read_csv(\"sorghum/protein.csv\")\n",
    "df"
   ]
  },
  {
   "cell_type": "code",
   "execution_count": 23,
   "metadata": {},
   "outputs": [
    {
     "data": {
      "text/html": [
       "<div>\n",
       "<style scoped>\n",
       "    .dataframe tbody tr th:only-of-type {\n",
       "        vertical-align: middle;\n",
       "    }\n",
       "\n",
       "    .dataframe tbody tr th {\n",
       "        vertical-align: top;\n",
       "    }\n",
       "\n",
       "    .dataframe thead th {\n",
       "        text-align: right;\n",
       "    }\n",
       "</style>\n",
       "<table border=\"1\" class=\"dataframe\">\n",
       "  <thead>\n",
       "    <tr style=\"text-align: right;\">\n",
       "      <th></th>\n",
       "      <th>protein</th>\n",
       "      <th>RS</th>\n",
       "    </tr>\n",
       "  </thead>\n",
       "  <tbody>\n",
       "    <tr>\n",
       "      <th>0</th>\n",
       "      <td>10.635625</td>\n",
       "      <td>3.470226</td>\n",
       "    </tr>\n",
       "    <tr>\n",
       "      <th>1</th>\n",
       "      <td>16.838500</td>\n",
       "      <td>4.443018</td>\n",
       "    </tr>\n",
       "    <tr>\n",
       "      <th>2</th>\n",
       "      <td>11.096750</td>\n",
       "      <td>4.365474</td>\n",
       "    </tr>\n",
       "    <tr>\n",
       "      <th>3</th>\n",
       "      <td>11.870250</td>\n",
       "      <td>5.687974</td>\n",
       "    </tr>\n",
       "    <tr>\n",
       "      <th>4</th>\n",
       "      <td>12.688375</td>\n",
       "      <td>4.204797</td>\n",
       "    </tr>\n",
       "    <tr>\n",
       "      <th>5</th>\n",
       "      <td>15.157625</td>\n",
       "      <td>5.352826</td>\n",
       "    </tr>\n",
       "  </tbody>\n",
       "</table>\n",
       "</div>"
      ],
      "text/plain": [
       "     protein        RS\n",
       "0  10.635625  3.470226\n",
       "1  16.838500  4.443018\n",
       "2  11.096750  4.365474\n",
       "3  11.870250  5.687974\n",
       "4  12.688375  4.204797\n",
       "5  15.157625  5.352826"
      ]
     },
     "execution_count": 23,
     "metadata": {},
     "output_type": "execute_result"
    }
   ],
   "source": [
    "avg_protein = df.mean(axis=0)\n",
    "protein_rs = pd.DataFrame({'protein': avg_protein.values, 'RS': ar['RS'].values})\n",
    "protein_rs"
   ]
  },
  {
   "cell_type": "code",
   "execution_count": 24,
   "metadata": {},
   "outputs": [
    {
     "name": "stderr",
     "output_type": "stream",
     "text": [
      "/usr/local/Cellar/python3/3.6.3/Frameworks/Python.framework/Versions/3.6/lib/python3.6/site-packages/scipy/stats/stats.py:1713: FutureWarning: Using a non-tuple sequence for multidimensional indexing is deprecated; use `arr[tuple(seq)]` instead of `arr[seq]`. In the future this will be interpreted as an array index, `arr[np.array(seq)]`, which will result either in an error or a different result.\n",
      "  return np.add.reduce(sorted[indexer] * weights, axis=axis) / sumval\n"
     ]
    },
    {
     "data": {
      "text/plain": [
       "<matplotlib.axes._subplots.AxesSubplot at 0x11f7c1ba8>"
      ]
     },
     "execution_count": 24,
     "metadata": {},
     "output_type": "execute_result"
    },
    {
     "data": {
      "image/png": "[encoded data removed]",
      "text/plain": [
       "<Figure size 432x288 with 1 Axes>"
      ]
     },
     "metadata": {
      "needs_background": "light"
     },
     "output_type": "display_data"
    }
   ],
   "source": [
    "sns.regplot(x='protein', y='RS', data=protein_rs)"
   ]
  },
  {
   "cell_type": "code",
   "execution_count": 25,
   "metadata": {},
   "outputs": [
    {
     "data": {
      "text/plain": [
       "(0.30720795891625663, 0.5536847029251615)"
      ]
     },
     "execution_count": 25,
     "metadata": {},
     "output_type": "execute_result"
    }
   ],
   "source": [
    "stats.pearsonr(protein_rs['protein'], protein_rs['RS'])"
   ]
  },
  {
   "cell_type": "code",
   "execution_count": null,
   "metadata": {},
   "outputs": [],
   "source": []
  }
 ],
 "metadata": {
  "kernelspec": {
   "display_name": "Python 3",
   "language": "python",
   "name": "python3"
  },
  "language_info": {
   "codemirror_mode": {
    "name": "ipython",
    "version": 3
   },
   "file_extension": ".py",
   "mimetype": "text/x-python",
   "name": "python",
   "nbconvert_exporter": "python",
   "pygments_lexer": "ipython3",
   "version": "3.6.3"
  }
 },
 "nbformat": 4,
 "nbformat_minor": 2
}
